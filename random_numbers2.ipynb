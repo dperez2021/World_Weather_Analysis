{
 "cells": [
  {
   "cell_type": "code",
   "execution_count": 18,
   "id": "f2d71da5",
   "metadata": {},
   "outputs": [],
   "source": [
    "# Import the random module.\n",
    "import random"
   ]
  },
  {
   "cell_type": "code",
   "execution_count": 20,
   "id": "e507000b",
   "metadata": {},
   "outputs": [
    {
     "data": {
      "text/plain": [
       "26"
      ]
     },
     "execution_count": 20,
     "metadata": {},
     "output_type": "execute_result"
    }
   ],
   "source": [
    "random.randint(-90, 90)"
   ]
  },
  {
   "cell_type": "code",
   "execution_count": 21,
   "id": "e38e8fb2",
   "metadata": {},
   "outputs": [],
   "source": [
    "x = 1\n",
    "latitudes = []\n",
    "while x < 11:\n",
    "    random_lat = random.randint(-90, 89) + random.random()\n",
    "    latitudes.append(random_lat)\n",
    "    x += 1"
   ]
  },
  {
   "cell_type": "code",
   "execution_count": 23,
   "id": "cde04c61",
   "metadata": {},
   "outputs": [
    {
     "data": {
      "text/plain": [
       "[53.779166425178914,\n",
       " 83.03057581915031,\n",
       " 22.87417229016686,\n",
       " -85.89806689409984,\n",
       " -21.079915686070557,\n",
       " -82.44612344191117,\n",
       " 36.12789939298686,\n",
       " -45.639776450691365,\n",
       " 27.658042620892946,\n",
       " -37.04207043580433]"
      ]
     },
     "execution_count": 23,
     "metadata": {},
     "output_type": "execute_result"
    }
   ],
   "source": [
    "latitudes"
   ]
  },
  {
   "cell_type": "code",
   "execution_count": 24,
   "id": "59cde4ac",
   "metadata": {},
   "outputs": [
    {
     "data": {
      "text/plain": [
       "45"
      ]
     },
     "execution_count": 24,
     "metadata": {},
     "output_type": "execute_result"
    }
   ],
   "source": [
    "random.randrange(-90, 90, step=1)"
   ]
  },
  {
   "cell_type": "code",
   "execution_count": 25,
   "id": "f4e73ff0",
   "metadata": {},
   "outputs": [
    {
     "data": {
      "text/plain": [
       "-54"
      ]
     },
     "execution_count": 25,
     "metadata": {},
     "output_type": "execute_result"
    }
   ],
   "source": [
    "random.randrange(-90, 90, step=3)"
   ]
  },
  {
   "cell_type": "code",
   "execution_count": 26,
   "id": "91f63a66",
   "metadata": {},
   "outputs": [
    {
     "data": {
      "text/plain": [
       "-72.50421441866632"
      ]
     },
     "execution_count": 26,
     "metadata": {},
     "output_type": "execute_result"
    }
   ],
   "source": [
    "random.uniform(-90, 90)"
   ]
  },
  {
   "cell_type": "code",
   "execution_count": 27,
   "id": "b004986d",
   "metadata": {},
   "outputs": [],
   "source": [
    "# Import the NumPy module.\n",
    "import numpy as np"
   ]
  },
  {
   "cell_type": "code",
   "execution_count": 28,
   "id": "6cfc435b",
   "metadata": {},
   "outputs": [
    {
     "data": {
      "text/plain": [
       "-59.91394743375518"
      ]
     },
     "execution_count": 28,
     "metadata": {},
     "output_type": "execute_result"
    }
   ],
   "source": [
    "np.random.uniform(-90.000, 90.000)"
   ]
  },
  {
   "cell_type": "code",
   "execution_count": 29,
   "id": "583866f7",
   "metadata": {},
   "outputs": [
    {
     "data": {
      "text/plain": [
       "array([ 47.53295513,   1.78797156,  19.15372453, -23.28634203,\n",
       "        33.8690045 ,  75.97306097, -26.22245759,  26.39758086,\n",
       "         3.99446263,   2.35090798, -67.19818621, -33.34810676,\n",
       "        40.77809414, -65.86154674, -16.14422461, -71.18293476,\n",
       "        -0.66796111,  54.98090974,  82.40429726, -33.31373924,\n",
       "        -2.64196974, -70.46709645,  66.97085941, -31.03129678,\n",
       "        -4.64300166, -56.46868015,  77.9670131 , -15.93807744,\n",
       "       -66.97228848, -13.29738478,  34.87257068, -39.30981268,\n",
       "        76.27549202,  -1.94007949,  11.94788259,  12.1651759 ,\n",
       "        -1.5740953 , -58.36657829, -21.77519564, -74.2140684 ,\n",
       "       -76.02125726,  -0.26151058, -13.93524439,  -1.46663661,\n",
       "       -41.12911696,  52.66300723, -42.82071291,  22.07972362,\n",
       "        -3.65187842,  -9.19124847])"
      ]
     },
     "execution_count": 29,
     "metadata": {},
     "output_type": "execute_result"
    }
   ],
   "source": [
    "np.random.uniform(-90.000, 90.000, size=50)"
   ]
  },
  {
   "cell_type": "code",
   "execution_count": 30,
   "id": "3988ed4f",
   "metadata": {},
   "outputs": [],
   "source": [
    "# Import timeit.\n",
    "import timeit"
   ]
  },
  {
   "cell_type": "code",
   "execution_count": 31,
   "id": "9a72cca0",
   "metadata": {},
   "outputs": [
    {
     "name": "stdout",
     "output_type": "stream",
     "text": [
      "20.4 µs ± 1.3 µs per loop (mean ± std. dev. of 7 runs, 10000 loops each)\n"
     ]
    }
   ],
   "source": [
    "%timeit np.random.uniform(-90.000, 90.000, size=1500)"
   ]
  },
  {
   "cell_type": "code",
   "execution_count": 32,
   "id": "03ead416",
   "metadata": {},
   "outputs": [
    {
     "name": "stdout",
     "output_type": "stream",
     "text": [
      "2.14 ms ± 69 µs per loop (mean ± std. dev. of 7 runs, 100 loops each)\n"
     ]
    }
   ],
   "source": [
    "def latitudes(size):\n",
    "    latitudes = []\n",
    "    x = 0\n",
    "    while x < (size):\n",
    "        random_lat = random.randint(-90, 90) + random.random()\n",
    "        latitudes.append(random_lat)\n",
    "        x += 1\n",
    "    return latitudes\n",
    "# Call the function with 1500.\n",
    "%timeit latitudes(1500)"
   ]
  },
  {
   "cell_type": "code",
   "execution_count": null,
   "id": "4a407905",
   "metadata": {},
   "outputs": [],
   "source": []
  },
  {
   "cell_type": "code",
   "execution_count": null,
   "id": "e9bf3cba",
   "metadata": {},
   "outputs": [],
   "source": []
  }
 ],
 "metadata": {
  "kernelspec": {
   "display_name": "Python 3",
   "language": "python",
   "name": "python3"
  },
  "language_info": {
   "codemirror_mode": {
    "name": "ipython",
    "version": 3
   },
   "file_extension": ".py",
   "mimetype": "text/x-python",
   "name": "python",
   "nbconvert_exporter": "python",
   "pygments_lexer": "ipython3",
   "version": "3.7.10"
  }
 },
 "nbformat": 4,
 "nbformat_minor": 5
}
